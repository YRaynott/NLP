{
  "nbformat": 4,
  "nbformat_minor": 0,
  "metadata": {
    "colab": {
      "provenance": []
    },
    "kernelspec": {
      "name": "python3",
      "display_name": "Python 3"
    },
    "language_info": {
      "name": "python"
    }
  },
  "cells": [
    {
      "cell_type": "code",
      "execution_count": 1,
      "metadata": {
        "colab": {
          "base_uri": "https://localhost:8080/"
        },
        "id": "FBG6Tbf3nC9z",
        "outputId": "4beab768-030e-4552-c8ac-ea5972b319a7"
      },
      "outputs": [
        {
          "output_type": "stream",
          "name": "stdout",
          "text": [
            "Requirement already satisfied: scikit-learn in /usr/local/lib/python3.10/dist-packages (1.6.0)\n",
            "Requirement already satisfied: numpy>=1.19.5 in /usr/local/lib/python3.10/dist-packages (from scikit-learn) (1.26.4)\n",
            "Requirement already satisfied: scipy>=1.6.0 in /usr/local/lib/python3.10/dist-packages (from scikit-learn) (1.13.1)\n",
            "Requirement already satisfied: joblib>=1.2.0 in /usr/local/lib/python3.10/dist-packages (from scikit-learn) (1.4.2)\n",
            "Requirement already satisfied: threadpoolctl>=3.1.0 in /usr/local/lib/python3.10/dist-packages (from scikit-learn) (3.5.0)\n"
          ]
        }
      ],
      "source": [
        "!pip install scikit-learn"
      ]
    },
    {
      "cell_type": "code",
      "source": [
        "import json\n",
        "import numpy as np\n",
        "import pandas as pd\n",
        "from sklearn.feature_extraction.text import TfidfVectorizer\n",
        "from sklearn.discriminant_analysis import LinearDiscriminantAnalysis\n",
        "from sklearn.metrics import accuracy_score\n",
        "from sklearn.model_selection import train_test_split\n",
        "\n",
        "# 載入訓練數據\n",
        "with open('/content/train_data.json', 'r', encoding='utf-8') as f:\n",
        "    train_data = json.load(f)\n",
        "\n",
        "# 載入測試數據\n",
        "with open('/content/test_data.json', 'r', encoding='utf-8') as f:\n",
        "    test_data = json.load(f)\n",
        "\n",
        "# 將訓練數據轉換為DataFrame\n",
        "train_df = pd.DataFrame(train_data)\n",
        "\n",
        "# 將測試數據轉換為DataFrame\n",
        "test_df = pd.DataFrame(test_data)\n",
        "\n",
        "# 使用 \"description_wseg_list\" 提取訓練集文字\n",
        "train_descriptions = [' '.join(map(str, seg)) for seg in train_df['description_wseg_list']]\n",
        "# 使用 \"description_wseg_list\" 提取測試集文字\n",
        "test_descriptions = [' '.join(map(str, seg)) for seg in test_df['description_wseg_list']]\n",
        "\n",
        "# 目標變數是 \"catid\"\n",
        "train_labels = train_df['catid'].values\n",
        "test_labels = test_df['catid'].values\n",
        "\n",
        "# 使用TfidfVectorizer將描述轉換為數值特徵\n",
        "vectorizer = TfidfVectorizer(max_features=1000)\n",
        "X_train = vectorizer.fit_transform(train_descriptions)\n",
        "X_test = vectorizer.transform(test_descriptions)  # 使用訓練集的詞彙表轉換測試集\n",
        "\n",
        "# 初始化LDA模型\n",
        "lda = LinearDiscriminantAnalysis()\n",
        "\n",
        "# 訓練LDA模型\n",
        "lda.fit(X_train.toarray(), train_labels)\n",
        "\n",
        "# 使用測試集進行預測\n",
        "y_pred = lda.predict(X_test.toarray())\n",
        "\n",
        "# 計算準確度\n",
        "accuracy = accuracy_score(test_labels, y_pred)\n",
        "print(f\"Test Accuracy: {accuracy * 100:.2f}%\")\n"
      ],
      "metadata": {
        "colab": {
          "base_uri": "https://localhost:8080/"
        },
        "id": "2CG2z86znTlr",
        "outputId": "856b34a6-fe30-4045-9b1b-453544a05c6e"
      },
      "execution_count": 5,
      "outputs": [
        {
          "output_type": "stream",
          "name": "stdout",
          "text": [
            "Test Accuracy: 71.55%\n"
          ]
        }
      ]
    }
  ]
}